{
  "nbformat": 4,
  "nbformat_minor": 0,
  "metadata": {
    "colab": {
      "provenance": [],
      "authorship_tag": "ABX9TyPgey9hzkn+llpFauuuFIuO",
      "include_colab_link": true
    },
    "kernelspec": {
      "name": "python3",
      "display_name": "Python 3"
    },
    "language_info": {
      "name": "python"
    }
  },
  "cells": [
    {
      "cell_type": "markdown",
      "metadata": {
        "id": "view-in-github",
        "colab_type": "text"
      },
      "source": [
        "<a href=\"https://colab.research.google.com/github/alu230863-dev/Evaluaci-n-Diagn-stica-Pr-ctica/blob/main/EvaluacionDiagnosticaEKMM.ipynb\" target=\"_parent\"><img src=\"https://colab.research.google.com/assets/colab-badge.svg\" alt=\"Open In Colab\"/></a>"
      ]
    },
    {
      "cell_type": "markdown",
      "source": [
        "Imprimir nombre, paterno y materno de Alumno"
      ],
      "metadata": {
        "id": "xwL10kyl0F5s"
      }
    },
    {
      "cell_type": "code",
      "execution_count": 3,
      "metadata": {
        "colab": {
          "base_uri": "https://localhost:8080/"
        },
        "id": "C3xrH_0rz4Gv",
        "outputId": "3d9f5a3a-c2bc-48ce-91da-6aa20cd56544"
      },
      "outputs": [
        {
          "output_type": "stream",
          "name": "stdout",
          "text": [
            "Ingrese nombre: Eric\n",
            "Ingrese apellido paterno: Martinez\n",
            "Ingrese apellido materno: Martinez\n",
            "Su registro fue:  Eric   Martinez   Martinez\n"
          ]
        }
      ],
      "source": [
        "n=(input(\"Ingrese nombre: \"))\n",
        "p=(input(\"Ingrese apellido paterno: \"))\n",
        "m=(input(\"Ingrese apellido materno: \"))\n",
        "print (\"Su registro fue: \",n,\" \",p,\" \",m)"
      ]
    },
    {
      "cell_type": "markdown",
      "source": [
        "Capturar 2 números decimales e imprimir Suma"
      ],
      "metadata": {
        "id": "fNCaTACP0QQo"
      }
    },
    {
      "cell_type": "code",
      "source": [
        "n1=float(input(\"Ingrese el primer numero decimal: \"))\n",
        "n2=float(input(\"Ingrese el segundo numero decimal: \"))\n",
        "s=n1+n2\n",
        "print (\"La suma de los numeros es: \",s)"
      ],
      "metadata": {
        "colab": {
          "base_uri": "https://localhost:8080/"
        },
        "id": "OLLIEK8Z0PxB",
        "outputId": "a8ef9ff8-e9b6-4b26-c7a4-7f6db68bfb24"
      },
      "execution_count": 7,
      "outputs": [
        {
          "output_type": "stream",
          "name": "stdout",
          "text": [
            "Ingrese el primer numero decimal: 1.5\n",
            "Ingrese el segundo numero decimal: 3.5\n",
            "La suma de los numeros es:  5.0\n"
          ]
        }
      ]
    },
    {
      "cell_type": "markdown",
      "source": [
        "Calcular el área de un círculo"
      ],
      "metadata": {
        "id": "hjd_AbKg0UQQ"
      }
    },
    {
      "cell_type": "code",
      "source": [
        "rad=float(input(\"Ingresa el radio del circulo: \"))\n",
        "pi=3.14\n",
        "a=pi*(rad ** 2)\n",
        "print (\"El area del circulo es de: \",a)"
      ],
      "metadata": {
        "colab": {
          "base_uri": "https://localhost:8080/"
        },
        "id": "ARa3qtGs0UvZ",
        "outputId": "14510661-c5a5-48e7-c26b-c58133299692"
      },
      "execution_count": 17,
      "outputs": [
        {
          "output_type": "stream",
          "name": "stdout",
          "text": [
            "Ingresa el radio del circulo: 8.5\n",
            "El area del circulo es de:  226.865\n"
          ]
        }
      ]
    },
    {
      "cell_type": "markdown",
      "source": [
        "Ejemplo de código y ventana resultante de semestre pasado."
      ],
      "metadata": {
        "id": "jCL5MqJQ0X7I"
      }
    },
    {
      "cell_type": "markdown",
      "source": [
        "**create table perros** *(  \n",
        "  \tnoperro int no null,  \n",
        "  \tnombreperro varchar(35) not null.  \n",
        "  \traza varchar (40) not null,  \n",
        "  \tdueno varchar (65) not null,  \n",
        "  \tpeso int not null,  \n",
        "  \tedad int not null,  \n",
        "  \tprimary key(noperro)  \n",
        "\t);*"
      ],
      "metadata": {
        "id": "GHSI3LR35t_A"
      }
    }
  ]
}